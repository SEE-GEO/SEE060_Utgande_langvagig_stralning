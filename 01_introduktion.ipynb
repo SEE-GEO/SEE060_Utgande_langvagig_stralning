{
 "cells": [
  {
   "cell_type": "markdown",
   "id": "bb065893-8f03-41f4-802f-d7d254fd7407",
   "metadata": {},
   "source": [
    "# Introduktion till Python SEE060\n",
    "\n",
    "Målet med den här notebooken är att ni ska få en introduktion till delar av Python och dess ekosystem som kommer vara användbara när ni arbetar med inlämningsuppgift 2: Utgående långvågig strålning (OLR)."
   ]
  },
  {
   "cell_type": "markdown",
   "id": "c1a37117-35ba-40b1-bc11-5be3a3fc421d",
   "metadata": {
    "editable": true,
    "slideshow": {
     "slide_type": ""
    },
    "tags": []
   },
   "source": [
    "Först och främst, det ni läser just nu är en så kallad [Jupyter Notebook](https://jupyter.org/).\n",
    "Det är ett interaktivt dokument där det går att blanda text, bilder och kod-celler.\n",
    "Dessa notebooks visas och redigeras oftast i ett program som heter JupyterLab.\n",
    "JupyterLab kan köras på din egen dator eller på en server någonstans i molnet, men oavsett används en webbläsare för att komma åt det grafiska gränssnittet (det du tittar på nu).\n",
    "\n",
    "Detta betyder att JupyterLab fungerar till mångt och mycket som vilket program som helst på din dator.\n",
    "Skapar du till exempel en ny fil via `File` i menyraden ovan kommer det skapas en ny fil i mappen där du startade programmet.\n",
    "\n",
    "Klickar du på mapp-symbolen (📁) i sidomenyn till vänster öppnas en panel som ger dig en överblick över vilka filer och mappar som finns i den nuvarande mappen (om du kör på din egen dator och inte ser sidomenyn kan det hända att du inte kör JupyterLab).\n",
    "Panelen fungerar som de flesta filhanterare: dubbelklicka för att öppna en mapp eller fil, enkelklicka för att markera, eller högerklicka för att öppna en meny för att kopiera osv.\n",
    "Högerklickar du utan att ha markerat en fil eller mapp öppnas en meny där du kan skapa en ny fil, en ny notebook eller en ny mapp. För en genomgång av gränsnittet klicka på `Help -> Welcome Tour`\n",
    "\n",
    "<div class=\"alert alert-block alert-warning\">\n",
    "    <p><b>Varning:</b>\n",
    "        I fallet att du följt länken på Canvas körs den här notebooken på något som heter <a href=\"https://mybinder.org/\">MyBinder</a>,\n",
    "        vilket innebär att JupyterLab körs på en server någonstans i molnet.\n",
    "        Det är väldigt smidigt för att komma igång med Python och Jupyter,\n",
    "        men <b>ingenting sparas</b> och programmet stängs av efter en stunds inaktivitet.\n",
    "        Alltså måste du ladda ner filerna till din egen dator för att spara dem (högerklicka på filen i filhanteraren -> Download)</p>\n",
    "    <p>Alternativt kan du installera Python och JupyterLab på din egen dator,\n",
    "        se <a href=\"#Installera-Python-p%c3%a5-din-dator\">Installera Python på din dator</a> nedan.</p>\n",
    "</div>"
   ]
  },
  {
   "cell_type": "markdown",
   "id": "979e0d96-3a28-4c8c-92b3-d33543a4c511",
   "metadata": {},
   "source": [
    "JupyterLab är som sagt ett program för att visa och redigera Jupyter Notebooks.\n",
    "För en första genomgång av notebooks, klicka på `Help -> Notebook Tour`.\n",
    "\n",
    "En notebook består alltså av en samling celler, där cellen kan innehålla text (i form av [Markdown](https://www.markdownguide.org/cheat-sheet/), följ länken för ett cheat-sheet) eller exekverbar kod: Jupyter har stöd för många olika programmeringsspråk, men vi kommer att fokusera på Python.\n",
    "Det här är en markdown-cell, dubbelklickar du på den ser du hur \"koden\" ser ut.\n",
    "Trycker du på `Shift+Enter` på tangentbordet, eller play-knappen i menyn ovan exekveras (körs) cellen igen."
   ]
  },
  {
   "cell_type": "markdown",
   "id": "fb9efea7-5bc3-496c-8e91-95b5755f948d",
   "metadata": {
    "editable": true,
    "slideshow": {
     "slide_type": ""
    },
    "tags": []
   },
   "source": [
    "Nedan är ett exempel på en kod-cell med lite Python-kod.\n",
    "Markera cellen och kör den för att se vad som skrivs ut.\n",
    "\n",
    "<div class=\"alert alert-block alert-info\">\n",
    "<b>Info: </b>All Python-kod som skrivs i en kod-cell kan också skrivas in en Python-fil (.py) och sedan exekveras i t.ex. en terminal.\n",
    "</div>"
   ]
  },
  {
   "cell_type": "code",
   "execution_count": null,
   "id": "e9266b8b-9291-4192-968b-3d5c01f6df65",
   "metadata": {
    "editable": true,
    "slideshow": {
     "slide_type": ""
    },
    "tags": []
   },
   "outputs": [],
   "source": [
    "print(\"Hello, World!\")"
   ]
  },
  {
   "cell_type": "markdown",
   "id": "327dba62-2047-4259-9c0a-bea02818dc62",
   "metadata": {},
   "source": [
    "En kod-cell som du inte kört kommer visa `[ ]:` till vänster om cellen.\n",
    "Efter att du kört cellen kommer det istället visas en siffra inom hakparentesen, t.ex. `[1]`.\n",
    "Om det visas en asterisk (`[*]`) betyder det att koden i cellen fortfarande körs.\n",
    "\n",
    "<div class=\"alert alert-block alert-info\">\n",
    "<b>Info: </b>Det är lätt hänt att råka exekvera en cell som tar för lång tid att köra, eller som kanske aldrig blir klar.\n",
    "    Du kan avbryta en exekvering genom att i menyn ovan trycka på <b>Kernel -> Interrupt Kernel</b>, eller i värsta fall <b>Kernel -> Restart Kernel</b>.\n",
    "    Det senare alternativet startar om hela notebooken och du måste köra om alla celler från början för att fortsätta ditt arbete.\n",
    "</div>\n",
    "\n",
    "I fortsättningen antas det att du kör alla kod-celler."
   ]
  },
  {
   "cell_type": "markdown",
   "id": "0295711f-9d13-464c-81c3-4c1969b0ba4d",
   "metadata": {},
   "source": [
    "## Installera Python på din dator\n",
    "\n",
    "Om du vill spara dina lösningar till uppgifterna i den här Python-övningen rekommenderar vi att du installerar Python och JupyterLab på din egen dator.\n",
    "Om du inte vet hur, rekommenderar vi [Anaconda](https://www.anaconda.com/download).\n",
    "Se till att följande bibliotek är installerade (följer med som standard i Anaconda, se under *Environments*):\n",
    "\n",
    "- numpy\n",
    "- matplotlib\n",
    "- jupyterlab\n",
    "\n",
    "\n",
    "### Jobba med Python-introduktionen på din dator\n",
    "\n",
    "Efter att ha installerat Anaconda, öppna programmet.\n",
    "Starta sedan **JupyterLab** från Home.\n",
    "\n",
    "Du kan ladda ner Python-introduktionen som en zip här:\n",
    "https://github.com/hanschen/SEE060_OLR/archive/refs/heads/main.zip\n",
    "\n",
    "Packa upp zipfilen på ett lämpligt ställe, och öppna sedan `01_introduktion.ipynb` i JupyterLab via filhanteraren till vänster."
   ]
  },
  {
   "cell_type": "markdown",
   "id": "2bad0fe9-78f2-447f-8c76-5a3f83bf6eb6",
   "metadata": {},
   "source": [
    "## Arbeta med den här notebooken\n",
    "\n",
    "Det här är en interaktiv övning där du förväntas läsa texten, köra kod-celler, och även skriva egen kod.\n",
    "Håll speciellt utkik efter gröna rutor som ger dig uppgifter att göra kopplat till det du precis läst.\n",
    "De ser ut så här:"
   ]
  },
  {
   "cell_type": "markdown",
   "id": "749567a2-74ce-4652-bb89-923c648b6712",
   "metadata": {},
   "source": [
    "<div class=\"alert alert-block alert-success\">\n",
    "<b>Uppgift:</b> Det här är ett exempel på ett uppgiftsblock.\n",
    "    Testa att skapa en kod-cell under det här blocket.\n",
    "</div>"
   ]
  },
  {
   "cell_type": "markdown",
   "id": "273f5026-471c-49db-a0fe-4c0f3d5b0c28",
   "metadata": {},
   "source": [
    "Du förväntas lägga till en eller flera kod-celler under uppgiftsblock där du skriver kod för att lösa uppgiften.\n",
    "Det gör de enklast genom att markera (klicka på) uppgiftsblocket, och sedan antingen trycka på knappen ![Lägg till cell-knapp](media/notebook_add_cell.png) till höger, eller klicka på **B** på tangentbordet.\n",
    "\n",
    "Om du råkar ändra något i notebooken av misstag kan du testa att:\n",
    "\n",
    "- Använda \"ångra\"-funktionen (`Edit -> Undo` eller `Ctrl+Z`).\n",
    "- Ladda om notebooken (`File -> Reload Notebook from Disk`). Dina osparade ändringar kommer då försvinna.\n",
    "- Ladda om hela sidan genom att stänga ner sidan och öppna länken igen.\n",
    "\n",
    "Använd länkarna längst ner på sidan för att navigera fram och tillbaka i övningen."
   ]
  },
  {
   "cell_type": "markdown",
   "id": "bcecc002-4ad1-4e9c-b640-0357b75c9485",
   "metadata": {},
   "source": [
    "## Nästa steg\n",
    "\n",
    "Klicka på Nästa nere till höger för att gå vidare i övningen.\n",
    "\n",
    "<div style=\"width: 100%;\">\n",
    "    <div style=\"text-align: right\"> \n",
    "        <a href=\"02_python.ipynb\">Nästa (Python) »</a>\n",
    "    </div>\n",
    "</div>"
   ]
  }
 ],
 "metadata": {
  "kernelspec": {
   "display_name": "Python 3 (ipykernel)",
   "language": "python",
   "name": "python3"
  },
  "language_info": {
   "codemirror_mode": {
    "name": "ipython",
    "version": 3
   },
   "file_extension": ".py",
   "mimetype": "text/x-python",
   "name": "python",
   "nbconvert_exporter": "python",
   "pygments_lexer": "ipython3",
   "version": "3.11.8"
  }
 },
 "nbformat": 4,
 "nbformat_minor": 5
}
