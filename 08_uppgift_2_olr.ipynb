{
 "cells": [
  {
   "cell_type": "markdown",
   "id": "b573c2b8-14d3-4d37-b142-524b86e9d9c2",
   "metadata": {},
   "source": [
    "# Inlämningsuppgift 2: Utgående långvågig strålning (OLR)\n",
    "\n",
    "Den här uppgiften genomförs och lämnas in individuellt, men ni får gärna diskutera och hjälpa varandra.\n",
    "Du antas ha gått igenom [Python-introduktionen](01_introduktion.ipynb) innan du börjar på uppgiften.\n",
    "\n",
    "Inlämningen sker via Canvas, under Startsida $\\rightarrow$ Inlämningar $\\rightarrow$ Inlämning 2: Utgående långvågig strålning."
   ]
  },
  {
   "cell_type": "markdown",
   "id": "19c55d47-8cfb-490c-adc6-3d2ee20fd3c7",
   "metadata": {},
   "source": [
    "## Mål\n",
    "\n",
    "I denna uppgift ska du simulera utgående långvågig strålning och hur den påverkas av förändringar i koncentrationen av några gaser och temperaturprofilen.\n",
    "Tanken med uppgiften är att illustrera mer exakt varför stigande halter av så kallade växthusgaser är problematisk, d.v.s. i detalj visa hur gaserna påverkar jordens kylmekanism.\n",
    "På engelska kallas den utgående strålningen OLR (outgoing longwave radiation) och den termen används även här för enkelhets skull.\n",
    "\n",
    "Uppgiften är utformad för att träna er i att utföra beräkningar i Python.\n",
    "Speciellt ger uppgiften träning i att numeriskt integrera funktioner. Detta gör du enklast med NumPy-funktionen `trapz`.\n",
    "Läs dokumentationen för `trapz` så du vet hur den fungerar.\n",
    "Uppgiften ger också träning i att hantera data som har flera dimensioner och hur sådant data kan representeras som tvådimensionella fält (matriser, eller mer generellt i NumPy, arrays).\n",
    "Det senare är en tillämpning av det ni har lärt er i Linjär algebra."
   ]
  },
  {
   "cell_type": "markdown",
   "id": "7ea70cd7-1b89-49b7-92d0-fe456ce49a7b",
   "metadata": {},
   "source": [
    "## Avgränsningar\n",
    "\n",
    "Simuleringarna är ytterst detaljerade när det gäller gasernas absorptionsspektra.\n",
    "Men för att göra problemet hanterbart så bortser vi ifrån moln.\n",
    "Vi antar även att marken agerar som en svart kropp och att atmosfären inte har någon horisontell variation (båda är goda approximationer).\n",
    "Datan som du får täcker höjder upp till 20 km och representerar tropiska förhållande med förindustriella gasmängder."
   ]
  },
  {
   "cell_type": "markdown",
   "id": "ebbc6a74-faba-440b-a571-270390d780ba",
   "metadata": {},
   "source": [
    "## Teori\n",
    "\n",
    "Fysikaliskt sett är OLR jordens emittans, $E$ (enhet: Wm<sup>-2</sup>).\n",
    "Det går ej att beräkna emittansen direkt, utan den fås genom att integrera den spektrala emittansen, $E_s$ (enhet: Wm<sup>-2</sup>Hz<sup>-1</sup>), över alla frekvenser ($\\nu$): \n",
    "$$\n",
    "E = \\int_{v=0}^\\infty E_s(\\nu)d\\nu,\n",
    "\\tag{1}\n",
    "$$\n",
    "\n",
    "Även $E_s$ är ett integrerat värde.\n",
    "Den fås genom att integrera (som att summera, men för en kontinuerlig variabel) all utgående strålning.\n",
    "Den tekniska termen för strålning som vi använder här är spektral radians,\n",
    "$I$ (enhet: Wm<sup>-2</sup>Hz<sup>-1</sup>sr<sup>-1</sup>, där sr står för steradian),\n",
    "som beror på zenitvinkeln $\\theta$ och azimutvinkeln $\\phi$,\n",
    "se Figur 1 nedan.\n",
    "T.ex. ger en zenitvinkel på 0° kortast väg genom atmosfären,\n",
    "medan en zenitvinkel nära 90° ger en relativt lång väg.\n",
    "\n",
    "<figure>\n",
    "   <img src=\"./media/zenith-azimuth-schematic.svg\" width=100%>\n",
    "    <figcaption>\n",
    "        <b>Figur 1: </b>(a) Illustration av utgående spektral radians för en viss vinkel.\n",
    "        (b) Mer detaljerad bild av zenit- och azimutvinkel för utgående spektral radians.\n",
    "    </figcaption>\n",
    "</figure>\n",
    "\n",
    "Vi vill alltså integrera (\"summera\") all spektral radians som \"går uppåt\" ut från atmosfären,\n",
    "d.v.s. över en halvsfär vid toppen av atmosfären:\n",
    "\n",
    "$$\n",
    "E_s(\\nu) = \\int_{\\phi=0}^{2\\pi} \\int_{\\theta=0}^{\\pi / 2} I(\\nu, \\theta, \\phi)\\cos(\\theta)\\sin(\\theta)d\\theta d\\phi\n",
    "\\tag{2} \n",
    "$$\n",
    "Ekvation (2) är en dubbelintegral, men låt inte det skrämma dig!\n",
    "För de förhållanden som beskrivs under [Avgränsningar](#Avgränsningar) så beror inte $I$ på azimuthvinkeln $\\phi$, och uttrycket kan då förenklas som\n",
    "\n",
    "$$\n",
    "E_s(\\nu) = \\int_{\\phi=0}^{2\\pi} d\\phi \\cdot \\int_{\\theta=0} ^{\\pi / 2} I(\\nu, \\theta) \\cos(\\theta) \\sin(\\theta) d\\theta,\n",
    "\\tag{3}\n",
    "$$\n",
    "\n",
    "alltså en multiplikation av två integraler.\n",
    "Den första integralen kan lösas analytiskt och är bara ett konstant värde (låt oss kalla det $C$ för enkelhets skull).\n",
    "Så börja med att lösa följande integral analytiskt:\n",
    "$$\n",
    "C = \\int_{\\phi = 0}^{2\\pi} d\\phi = ?\n",
    "\\tag{4}\n",
    "$$\n",
    "\n",
    "Uppgiften är nu alltså att räkna ut\n",
    "$$\n",
    "E_s(\\nu) = C \\cdot \\int_{\\theta=0}^{\\pi/2} I(\\nu, \\theta)\\cos(\\theta)\\sin(\\theta) d\\theta.\n",
    "\\tag{5}\n",
    "$$\n",
    "\n",
    "Vi går inte in på hur $I(\\nu, \\theta)$ beräknas, utan du får en färdig funktion som räknar ut $I$ för alla frekvenser för ett angivet värde på $\\theta$.\n",
    "Integralen i Ekvation (5) löser vi numeriskt med NumPy-funktionen `trapz`.\n",
    "\n",
    "Nedan kommer du få i uppgift att beräkna spektrala emittanser $E_s$ och totala emittanser $E$."
   ]
  },
  {
   "cell_type": "markdown",
   "id": "ac99f665-8c19-4a50-8e1d-b1e6645c5a8a",
   "metadata": {},
   "source": [
    "### Frekvens och vågtal\n",
    "I figurer med strålning är det vanligt att frekvensen anges som “vågtal”, med enhet cm<sup>−1</sup>.\n",
    "Detta vågtal är $1/\\lambda$ där $\\lambda$ är våglängden i cm.\n",
    "Denna enhet kallas också för Kayser ([https: //en.wikipedia.org/wiki/Wavenumber](https://en.wikipedia.org/wiki/Wavenumber)).\n",
    "Som exempel så visas Planckfunktionen som en funktion av vågtal i Figur 2.\n",
    "\n",
    "<figure>\n",
    "    <img src=\"./media/planck.png\" width=600>\n",
    "    <figcaption>\n",
    "        <b>Figur 2: </b>Planck-kurvorna för två olika temperaturer som funktion av vågtal.\n",
    "    </figcaption>\n",
    "</figure>"
   ]
  },
  {
   "cell_type": "markdown",
   "id": "92352a82-a06f-4fe8-9497-b60925501afe",
   "metadata": {},
   "source": [
    "## Arbetsgång\n",
    "<div class=\"alert alert-block alert-info\">\n",
    "<b>Om du inte använt Python innan rekommenderar vi att du arbetar igenom <a href=\"01_introduktion.ipynb\">Introduktion till Python</a> först!</b>\n",
    "</div>\n",
    "\n",
    "- Bestäm om du ska fortsätta jobba på MyBinder eller installera Python och JupyterLab på din egen dator.\n",
    "  - Se [Installera Python på din dator](#Installera-Python-på-din-dator) för mer information.\n",
    "- Gå igenom [Praktiska instruktioner](#Praktiska-instruktioner).\n",
    "- Svara på [Frågorna](#Frågor).\n",
    "\n",
    "<div class=\"alert alert-block alert-warning\">\n",
    "<b>Varning: </b>I fallet att du följt länken på Canvas körs den här notebooken på något som heter <a href=https://mybinder.org/>MyBinder</a>, vilket innebär att JupyterLab körs på en server någonstans i molnet. Det är väldigt smidigt för att komma igång med Python och Jupyter, men <b>ingenting sparas</b> och programmet stängs av efter en stunds inaktivitet.\n",
    "Alltså måste du ladda ner filerna till din egen dator för att spara dem (högerklicka på filen du vill spara i filhanteraren -> Download).\n",
    "Du måste sedan ladda upp filen igen (genom att klicka på knappen som ser ut som en uppåtpil i filhanteraren) när du startar en ny session.\n",
    "</div>"
   ]
  },
  {
   "cell_type": "markdown",
   "id": "55be93b7-42d2-461e-91d6-b896caa37411",
   "metadata": {},
   "source": [
    "### Installera Python på din dator\n",
    "\n",
    "För att minska risken att förlora arbete rekommenderar vi att du installerar Python och JupyterLab på din egen dator.\n",
    "Om du inte vet hur, rekommenderar vi [Anaconda](https://www.anaconda.com/download).\n",
    "Se till att följande bibliotek är installerade (följer med som standard i Anaconda, se *Environments*):\n",
    "\n",
    "- numpy\n",
    "- matplotlib\n",
    "- jupyterlab"
   ]
  },
  {
   "cell_type": "markdown",
   "id": "81c4d1e4-a2f4-4719-a125-253259190d30",
   "metadata": {},
   "source": [
    "### Jobba med inlämningsuppgiften på din dator\n",
    "\n",
    "Efter att ha installerat Anaconda, öppna programmet.\n",
    "Starta sedan **JupyterLab** från Home.\n",
    "\n",
    "Om du redan laddat ner filerna när du gjorde Python-introduktionen kan du hoppa till sista steget.\n",
    "Annars kan du ladda ner inlämningsuppgiften som en zip här:\n",
    "https://github.com/hanschen/SEE060_OLR/archive/refs/heads/main.zip\n",
    "\n",
    "Packa upp zipfilen på ett lämpligt ställe på din dator.\n",
    "\n",
    "Öppna slutligen `08_uppgift_2_olr.ipynb` i JupyterLab via filhanteraren till vänster."
   ]
  },
  {
   "cell_type": "markdown",
   "id": "64e444e8-839f-48a1-9fdd-27587dad3732",
   "metadata": {},
   "source": [
    "## Kod och data\n",
    "\n",
    "Funktioner för att beräkna radians finns i modulen `olr.py` i mappen `Kod`.\n",
    "Datan kommer i två varianter i mappen `Data`,\n",
    "där filerna heter `olr_data.npz` och `olr_data large.npz`.\n",
    "Båda dessa filer innehåller följande variabler:\n",
    "\n",
    "| | | |\n",
    "|-|-|-|\n",
    "| **f**    |Frekvenser [Hz]               |En vektor (endimensionell array). | \n",
    "| **wn**   |Vågtal [cm<sup>-1</sup>]      |En vektor, samma längd som f. | \n",
    "| **z**    |Höjder [m]                    |En vektor. | \n",
    "| **p**    |Atmosfäriskt tryck [Pa]       |En vektor, samma längd som z. |\n",
    "| **t**    |Atmosfäriskt temperatur [K]   |En vektor, samma längd som z. |\n",
    "| **vmr**  |Volymandelar [-]              |En matris med dimensioner (gas, z). Inkluderade gaser, i ordning, är:<br>H<sub>2</sub>O, CO<sub>2</sub>, O<sub>3</sub>, CH<sub>4</sub> och N<sub>2</sub>O. |\n",
    "| **xsec**  |Absorptionstvärsnitt [m<sup>2</sup>] |En array med dimensioner (gas, f, z). Denna variabel kommer ni inte<br>använda direkt, den används av funktioner som beräknar radians. |\n",
    "\n",
    "Använd först och främst `olr_data.npz`, som innehåller data för 3500 frekvenser.\n",
    "\n",
    "Om du är nyfiken och vill se resultaten i en högre upplösning kan du byta till `olr_data_large.npz` när du är klar med uppgiften.\n",
    "Den här filen innehåller data för 35000 frekvenser.\n",
    "\n",
    "Datafilerna laddas in i Python med NumPys funktion `load`."
   ]
  },
  {
   "cell_type": "markdown",
   "id": "9a4aee39-8302-4421-8863-ed443e03e171",
   "metadata": {},
   "source": [
    "<div class=\"alert alert-block alert-success\">\n",
    "    <b>Uppgift: </b>I cellerna nedan, importera NumPy och ladda in filen Data/olr_data.npz.\n",
    "</div>"
   ]
  },
  {
   "cell_type": "code",
   "execution_count": null,
   "id": "570cad00-fbc9-41b2-818d-d58133ced0f0",
   "metadata": {},
   "outputs": [],
   "source": [
    "# Importera numpy"
   ]
  },
  {
   "cell_type": "code",
   "execution_count": null,
   "id": "4e57fac6-8efe-41ab-acb1-d3b07fd54e56",
   "metadata": {},
   "outputs": [],
   "source": [
    "# Ladda in data till en variabel med namnet data"
   ]
  },
  {
   "cell_type": "markdown",
   "id": "6e6da721-cacc-497d-aec4-7e894da332a2",
   "metadata": {},
   "source": [
    "Med följande syntax tilldelar vi datan för frekvenserna till variablen `f`:"
   ]
  },
  {
   "cell_type": "code",
   "execution_count": null,
   "id": "2349680a-b1b7-4fbb-96a7-8a703fe0c990",
   "metadata": {},
   "outputs": [],
   "source": [
    "f = data[\"f\"]"
   ]
  },
  {
   "cell_type": "markdown",
   "id": "d05ea0ba-e298-48d5-a3c2-844be7a57697",
   "metadata": {},
   "source": [
    "<div class=\"alert alert-block alert-success\">\n",
    "    <b>Uppgift: </b>Skapa en variabel för varje fysisk variabel i tabellen ovan. Lägg till så många celler nedan som du behöver.\n",
    "</div>"
   ]
  },
  {
   "cell_type": "markdown",
   "id": "510c06bd-079d-41b3-94d1-4964f9158b67",
   "metadata": {},
   "source": [
    "Vi kommer att använda funktioner från modulen `olr` som finns i filen `Kod/olr.py`.\n",
    "Vi importerar modulen `Kod.olr` och namnger den till `olr`:"
   ]
  },
  {
   "cell_type": "code",
   "execution_count": null,
   "id": "6495bd33-2607-41ec-bdab-b3ac643b4a65",
   "metadata": {},
   "outputs": [],
   "source": [
    "import Kod.olr as olr"
   ]
  },
  {
   "cell_type": "markdown",
   "id": "a4c0dca0-9fef-4180-8763-c54e8357418d",
   "metadata": {},
   "source": [
    "Med till exempel `help(olr)` eller `help(olr.spectral_radiance)` kan du ta reda på vilka funktioner som finns i modulen och hur de fungerar."
   ]
  },
  {
   "cell_type": "markdown",
   "id": "96c9335e-0761-402a-a287-76f61a6c07f0",
   "metadata": {},
   "source": [
    "<div class=\"alert alert-block alert-success\">\n",
    "    <b>Uppgift:</b> Visa dokumentationen för <tt>olr.spectral_radiance</tt> nedan med hjälp av <tt>help</tt>-funktionen.\n",
    "</div>"
   ]
  },
  {
   "cell_type": "markdown",
   "id": "a1621def-b3f4-4c1a-b735-2e20d562393a",
   "metadata": {},
   "source": [
    "## Praktiska instruktioner\n",
    "\n",
    "Nedan antas det att du har importerat modulen olr som `olr` och NumPy som `np`."
   ]
  },
  {
   "cell_type": "markdown",
   "id": "26e9ad37-75b9-4bf5-9f52-729ea8722829",
   "metadata": {},
   "source": [
    "### Steg 1\n",
    "\n",
    "Ladda in datan (om du inte gjort det redan) och kontrollera storleken på varje variabel.\n",
    "Försök förstå vad de olika dimensionerna betyder.\n",
    "T.ex. vilken dimension representerar höjd i `vmr`?"
   ]
  },
  {
   "cell_type": "code",
   "execution_count": null,
   "id": "4acb8d37-59c7-49c8-88aa-bc29a87b3f49",
   "metadata": {},
   "outputs": [],
   "source": [
    "# Lägg till din kod här, lägg till fler celler om det behövs"
   ]
  },
  {
   "cell_type": "markdown",
   "id": "41365ad7-c0cf-4331-b474-cc5ddd0e9b66",
   "metadata": {},
   "source": [
    "### Steg 2\n",
    "Bli bekant med funktionen `olr.spectral radiance`.\n",
    "Den anropas som:\n",
    "```python\n",
    "olr.spectral_radiance(f, z, p, t, vmr, xsec, za)\n",
    "```\n",
    "där `za` är ett värde för zenit-vinkeln (“zenith angle”) i <u>radianer</u>."
   ]
  },
  {
   "cell_type": "markdown",
   "id": "98ee3c97-8660-49eb-9e67-dd341281c937",
   "metadata": {},
   "source": [
    "<div class=\"alert alert-block alert-success\">\n",
    "<b>Uppgift:</b>\n",
    "    Plotta resultatet av funktionen för några vinklar.\n",
    "    Glöm inte att importera <tt>matplotlib.pyplot</tt>,\n",
    "    förslagsvis som <tt>plt</tt>.\n",
    "    Som alltid, lägg till fler celler om du behöver.\n",
    "</div>"
   ]
  },
  {
   "cell_type": "code",
   "execution_count": null,
   "id": "c0110612-8b9d-4484-93aa-2f67dbf0c31d",
   "metadata": {},
   "outputs": [],
   "source": [
    "# Lägg till din kod här, lägg till fler celler om det behövs"
   ]
  },
  {
   "cell_type": "code",
   "execution_count": null,
   "id": "a0c76944-8ec0-4d88-b12e-b98658e2dab5",
   "metadata": {},
   "outputs": [],
   "source": [
    "# Lägg till din kod här, lägg till fler celler om det behövs"
   ]
  },
  {
   "cell_type": "markdown",
   "id": "512bb776-ef93-43e0-b734-95fe59d5257a",
   "metadata": {},
   "source": [
    "<div class=\"alert alert-block alert-info\">\n",
    "    <b>Tips:</b>\n",
    "    Får du <tt>RuntimeWarning</tt>-varningar och en array med <tt>nan</tt> och/eller <tt>inf</tt>?\n",
    "    Kontrollera att alla parametrar till funktionen är passande och med <u>korrekt enhet</u>.\n",
    "</div>"
   ]
  },
  {
   "cell_type": "markdown",
   "id": "02c4eb2f-fcee-4d32-b757-f9926b0fe218",
   "metadata": {},
   "source": [
    "### Steg 3\n",
    "\n",
    "Beräkna spektral emittans $E_s$ för alla frekvenser i datan enligt Ekvation (5),\n",
    "d.v.s.,\n",
    "gör uträkningen\n",
    "\n",
    "$$\n",
    "E_s(\\nu) = C \\cdot \\int_{\\theta=0}^{\\pi/2} I(\\nu, \\theta)\\cos(\\theta)\\sin(\\theta) d\\theta,\n",
    "\\tag{5}\n",
    "$$\n",
    "\n",
    "där $C$ är värdet du fick när du integrerade Ekvation (4) analytiskt,\n",
    "och $I$ erhålls från funktionen `olr.spectral_radiance`.\n",
    "\n",
    "Notera att vi vill ha $E_s$ för alla frekvenser ($\\nu$) i datafilen.\n",
    "Normalt sett hade vi behöva iterera (\"loopa\") över alla $\\nu$-värden,\n",
    "men som tur är returnerar funktionen `olr.spectral_radiance` redan spektral radians för alla angivna frekvenser.\n",
    "Vi behöver dock fortfarande beräkna uttrycket inne i integralen ([integranden](https://sv.wiktionary.org/wiki/integrand)) för ett antal zenitvinklar ($\\theta$),\n",
    "vilket lättast kan göras med en loop.\n",
    "\n",
    "<div class=\"alert alert-block alert-info\">\n",
    "<b>Tips:</b> Börja med några få zenitvinklar så går snabbare att köra koden.\n",
    "    När du är nöjd med koden kan du öka antalet zenitvinklar för att få en mer korrekt beräkning.\n",
    "</div>\n",
    "\n",
    "I det här steget finns det några detaljer som är svåra att uppfatta om man inte är erfaren,\n",
    "så här kommer lite extra hjälp:\n",
    "\n",
    "1. Till att börja med vill vi beräkna $I(\\nu, \\theta)\\cos(\\theta)\\sin(\\theta)$ för ett antal värden på $\\theta$.\n",
    "   (Vilka värden?\n",
    "   Titta på integralen i Ekvation (5) igen.)\n",
    "3. När vi anropar `olr.spectral_radiance` får vi $I$ för ett specifikt värde av $\\theta$ och alla angivna frekvenser $\\nu$,\n",
    "   alltså en endimensionell array,\n",
    "   ett värde för varje frekvens.\n",
    "   Dubbelkolla att detta stämmer.\n",
    "   Det är dock inte $\\nu$ vi vill integrera över,\n",
    "   så det är inte den här endimensionella arrayen vi ska integrera.\n",
    "5. Snabb sammanfattning:\n",
    "   Vi beräknar $I\\cos(\\theta)\\sin(\\theta)$ för ett antal $\\theta$,\n",
    "   och varje gång får vi en endimensionell array.\n",
    "6. Nu kan man göra något smart:\n",
    "   vi kan spara allt resultat i en tvådimensionell matris,\n",
    "   där resultatet för varje uträkning ($I\\cos(\\theta)\\sin(\\theta)$ för ett visst $\\theta$)\n",
    "   sparas som en rad eller kolumn i resultat-matrisen.\n",
    "\n",
    "<div class=\"alert alert-block alert-info\">\n",
    "<b>Tips: </b>Kommer du ihåg hur vi skapade en tom tvådimensionell array i Python-introduktionen?\n",
    "    <details>\n",
    "        <summary><em>Tips:</em></summary>\n",
    "        1. Det har med nollor att göra.\n",
    "        <br>\n",
    "        2. Det kan även hjälpa att titta på exempelkoden i Problem 4 i <a href=\"07_programmeringsproblem.ipynb\">Programmeringsproblem</a>.\n",
    "    </details>\n",
    "</div>\n",
    "\n",
    "5. Målet är alltså att skapa en tvådimensionell matris med dimensionerna ($\\theta$, $\\nu$) eller ($\\nu$, $\\theta$)\n",
    "   som innehåller alla integrand-värden.\n",
    "   Du kan nu enkelt integrera över den här matrisen med `np.trapz` längs dimensionen som motsvarar $\\theta$.\n",
    "\n",
    "<div class=\"alert alert-block alert-info\">\n",
    "<b>Tips: </b>Vet du hur man integrerar över en tvådimensionell matris med <tt>trapz</tt>?\n",
    "    <details>\n",
    "        <summary><em>Tips:</em></summary>\n",
    "        Se Problem 5 i <a href=\"07_programmeringsproblem.ipynb\">Programmeringsproblem</a>.\n",
    "    </details>\n",
    "</div>\n",
    "\n",
    "6. Beräkna slutligen $E_s$ (glöm inte konstanten $C$).\n",
    "\n",
    "Det är svårt i det här skedet att kontrollera om resultatet stämmer.\n",
    "Det här är vanligt i programmering/dataanalys och något man får lära sig hantera/leva med.\n",
    "För att göra det lättare för er får ni dock en liten ledtråd:\n",
    "om du plottar den spektrala emittansen så borde de större värdena ha en storleksordning på 10<sup>-11</sup> Wm<sup>-2</sup>Hz<sup>-1</sup>."
   ]
  },
  {
   "cell_type": "code",
   "execution_count": null,
   "id": "6c7fed5a-b79d-437e-b223-510e23f894fc",
   "metadata": {},
   "outputs": [],
   "source": [
    "# Lägg till din kod här, lägg till fler celler om det behövs"
   ]
  },
  {
   "cell_type": "markdown",
   "id": "bf792734-f2cb-400c-8c30-15db6f2cc13a",
   "metadata": {},
   "source": [
    "### Steg 4\n",
    "\n",
    "Vi kommer upprepa beräkningen av spektral emittans för olika förhållanden,\n",
    "så implementera en funktion som utför uträkningen i [Steg 3](#Steg-3),\n",
    "som du kallar `spectral_exitance`.\n",
    "Det ska vara möjligt utföra beräkningen med funktionen för godtycklig temperaturprofil, vertikal sammansättning av gaserna, osv.\n",
    "Fundera på vad för parametrar din funktionen behöver som input.\n",
    "\n",
    "<div class=\"alert alert-block alert-info\">\n",
    "<b>Tips: </b> Titta på vilka argument <tt>olr.spectral_radiance</tt> tar, och anpassa din funktion därefter.\n",
    "</div>\n",
    "\n",
    "Testa funktionen med värdena från datafilen.\n",
    "Kontrollera att resultatet stämmer med det du fick från föregående steg."
   ]
  },
  {
   "cell_type": "code",
   "execution_count": null,
   "id": "f66c96ac-e7e3-49ed-ada8-e0f80a27c278",
   "metadata": {},
   "outputs": [],
   "source": [
    "# Lägg till din kod här, lägg till fler celler om det behövs"
   ]
  },
  {
   "cell_type": "markdown",
   "id": "5447c431-df1b-4c98-99a5-cf5bade52101",
   "metadata": {},
   "source": [
    "### Steg 5\n",
    "\n",
    "Beräkna nu den totala emittansen genom att integrera över alla frekvenser enligt Ekvation (1):\n",
    "\n",
    "$$\n",
    "E = \\int_{v=0}^\\infty E_s(\\nu)d\\nu,\n",
    "\\tag{1}\n",
    "$$\n",
    "\n",
    "Notera att det teoretiska intervallet går från 0 till oändligheten,\n",
    "men här integrerar vi över alla frekvenser som ges i inputdatan.\n",
    "\n",
    "Resultatet ger dig simulerad OLR för jorden under de förhållanden som angavs i [Avgränsningar](#Avgränsningar).\n",
    "Wow! 🎉\n",
    "\n",
    "Det här är något vi kan relatera till.\n",
    "Reflektera över om värdet du fick är rimligt."
   ]
  },
  {
   "cell_type": "code",
   "execution_count": null,
   "id": "2d4d1d6d-da25-4ed0-ac95-d1edb181c9b9",
   "metadata": {},
   "outputs": [],
   "source": [
    "# Lägg till din kod här, lägg till fler celler om det behövs"
   ]
  },
  {
   "cell_type": "markdown",
   "id": "f296672c-4372-4ba6-8547-c0b70bfd028b",
   "metadata": {},
   "source": [
    "### Step 6\n",
    "\n",
    "Implementera även en funktion för beräkningen i [Steg 5](#Steg-5) som du kallar `exitance`.\n",
    "Denna funktion ska bland annat anropa `spectral_exitance` som du skapade i [Steg 4](#Steg-4) för att beräkna den spektrala emittansen.\n",
    "Likt `spectral_exitance` ska den nya `exitance`-funktionen fungera för godtycklig temperaturprofil, vertikal sammansättning av gaserna, osv.\n",
    "Vad för input kommer funktionen behöva?"
   ]
  },
  {
   "cell_type": "markdown",
   "id": "c1513f24-20c2-42f5-8027-ba7270bc1ace",
   "metadata": {},
   "source": [
    "### Steg 7\n",
    "Nu ska du implementa funktioner för att \"störa\" temperatur- och vmr-profilen för att se hur det påverkar OLR.\n",
    "\n",
    "<div class=\"alert alert-block alert-warning\">\n",
    "<b>Varning:</b>\n",
    "    Python och NumPy är lite trixiga här eftersom de föredrar att jobba med referenser.\n",
    "    Vad innebär detta?\n",
    "    Jo, i många programmeringsspråk kopieras variabler till funktioner,\n",
    "    och man behöver inte oroa sig för att råka modifiera originalvariabeln när man gör något i funktioner.\n",
    "    Detta gäller alltså inte för Python.\n",
    "    För att göra en kopia av en NumPy-array kan man använda <tt>.copy</tt>-metoden,\n",
    "    t.ex. <tt>copy_of_t = t.copy()</tt>.\n",
    "</div>\n",
    "\n",
    "Börja med att definera en funktion `perturb_t` för att störa temperaturprofilen:\n",
    "```python\n",
    "perturb_t(t, dt)\n",
    "```\n",
    "där `t` är orginalprofilen och `dt` är en störning i K.\n",
    "\n",
    "Vi vill begränsa störningen till höjder inom troposfären.\n",
    "Vi kan här anta att `t` är ordnad från lägre till högre höjder och att tropopausen är där temperaturprofilen har sitt minsta värde.\n",
    "Funktionen ska alltså ta en temperaturprofil `t` och ett värde `dt` och lägga till `dt` till `t` överallt i troposfären: alltså från början av arrayen t.o.m. där `t` har sitt minsta värde, men inte till elementen därefter.\n",
    "\n",
    "<div class=\"alert alert-block alert-info\">\n",
    "<details>\n",
    "    <summary><em>Om du behöver tips:</em></summary>\n",
    "    1. Om du behöver färska upp minnet om hur indexering och slices av numpy arrays fungerar, gå tillbaka till introduktionen.\n",
    "    <br>\n",
    "    2. Undersök i dokumentationen eller via din favoritsökmotor om NumPy har en funktion för att hitta indexet för en arrays lägsta värde.\n",
    "    <br>\n",
    "    3. Det kan ofta underlätta att t.ex. plotta <tt>t</tt> för att visuellt se om du har gjort rätt.\n",
    "    <br>\n",
    "    4. Fortfarande fast? Det kan hjälpa att börja med Problem 6 i <a href=\"07_programmeringsproblem.ipynb\">Programmeringsproblem</a>.\n",
    "</details>\n",
    "</div>"
   ]
  },
  {
   "cell_type": "code",
   "execution_count": null,
   "id": "b380a9be-6866-4f4b-92bc-db18507f9fec",
   "metadata": {},
   "outputs": [],
   "source": [
    "# Lägg till din kod här, lägg till fler celler om det behövs"
   ]
  },
  {
   "cell_type": "markdown",
   "id": "0b746b65-81cf-4f10-b923-8b062745d7bc",
   "metadata": {},
   "source": [
    "Skapa en liknande funktion för volymandelar:\n",
    "```python\n",
    "perturb_vmr(vmr, igas, dvmr, t)\n",
    "```\n",
    "där `vmr` är volymandelar,\n",
    "`igas` anger indexet för gasen som ska störas,\n",
    "och `dvmr` är en relativ störning (0.1 för 10% ökning o.s.v.).\n",
    "Även `perturb_vmr` ska bara störa värdena i troposfären (och `t` måste därför vara input även till den här funktionen)."
   ]
  },
  {
   "cell_type": "code",
   "execution_count": null,
   "id": "90047494-e8a4-475c-ab79-1e5f7e0434d5",
   "metadata": {},
   "outputs": [],
   "source": [
    "# Lägg till din kod här, lägg till fler celler om det behövs"
   ]
  },
  {
   "cell_type": "markdown",
   "id": "022bc109-19e6-4123-a02a-1772d8f44037",
   "metadata": {},
   "source": [
    "## Frågor\n",
    "Svaren till följande frågor/deluppgifter ska lämnas in individuellt på Canvas.\n",
    "\n",
    "<div class=\"alert  alert-block alert-info\">\n",
    "Kommer du ihåg hur man sparar figurer? Om inte, gå tillbaka till Introduktion till Python och avsnittet om Matplotlib.\n",
    "</div>"
   ]
  },
  {
   "cell_type": "markdown",
   "id": "5a272632-e6eb-4bc4-be87-2428ba69a6d0",
   "metadata": {},
   "source": [
    "### Fråga 1\n",
    "Plotta (i samma figur) spektral radians som funktion av vågtal för två zenitvinklar: 10° och 80°. Det ska framgå tydligt i figuren vilken som kurva som motsvarar vilken vinkel. För denna figur, och alla kommande, ange storhet och enhet för bägge axlarna."
   ]
  },
  {
   "cell_type": "code",
   "execution_count": null,
   "id": "95083ceb-8304-47d9-856e-1067f30cddd5",
   "metadata": {},
   "outputs": [],
   "source": [
    "# Lägg till din kod här, lägg till fler celler om det behövs"
   ]
  },
  {
   "cell_type": "markdown",
   "id": "f129ece2-7a16-4211-b6c2-2c918898131e",
   "metadata": {},
   "source": [
    "### Fråga 2\n",
    "Plotta spektral emittans (glöm ej enhet) som funktion av vågtal."
   ]
  },
  {
   "cell_type": "code",
   "execution_count": null,
   "id": "a8f93a06-b5cc-4f26-ad22-8ddd50008389",
   "metadata": {},
   "outputs": [],
   "source": [
    "# Lägg till din kod här, lägg till fler celler om det behövs"
   ]
  },
  {
   "cell_type": "markdown",
   "id": "0f68d5d2-464f-4143-9fa1-c9be9e829a0c",
   "metadata": {},
   "source": [
    "### Fråga 3\n",
    "Beräkna OLR (emittans) för nominell data,\n",
    "d.v.s. för värden som kommer ifrån datafilen.\n",
    "Vilket värde får du?\n",
    "Enhet?\n",
    "Hur kom du fram till att ditt värde är rimligt?"
   ]
  },
  {
   "cell_type": "code",
   "execution_count": null,
   "id": "cc14850f-f007-4f2f-b265-c211d22432b2",
   "metadata": {},
   "outputs": [],
   "source": [
    "# Lägg till din kod här, lägg till fler celler om det behövs"
   ]
  },
  {
   "cell_type": "markdown",
   "id": "868017ff-7267-439f-bef5-1b6d7ba06a80",
   "metadata": {},
   "source": [
    "### Fråga 4\n",
    "Gör en figur som visar hur spektral emittans ändras för en ökning av temperaturen i troposfären med 1 K.\n",
    "Vad är förändringen av OLR? (Tänk på tecknet.)"
   ]
  },
  {
   "cell_type": "code",
   "execution_count": null,
   "id": "1c715ad3-2627-4a5b-b8ae-c98c4a7326a5",
   "metadata": {},
   "outputs": [],
   "source": [
    "# Lägg till din kod här, lägg till fler celler om det behövs"
   ]
  },
  {
   "cell_type": "markdown",
   "id": "42944eec-98d9-46b3-b93b-386e756edf04",
   "metadata": {},
   "source": [
    "### Fråga 5\n",
    "Gör en figur som visar hur spektral emittans ändras för en 35%-ig ökning av CO<sub>2</sub> i troposfären.\n",
    "Vad är förändringen av OLR?\n",
    "35% är ungefär så mycket CO<sub>2</sub> hade ökat ifrån sitt förindustriella värde 2019.\n",
    "Hur väl stämmer ditt resultat med IPCCs värde?\n",
    "(Se Figur 3 nedan.)\n",
    "<figure>\n",
    "    <img src=\"./media/ipcc_5_ar6.png\" width=\"800\">\n",
    "    <figcaption>\n",
    "        <b>Figur 3: </b>Uppskattning av \"radiative forcing\". Från IPCC AR6, 2021: <em>Climate Change 2021: The Physical Science Basis</em>.\n",
    "    </figcaption>\n",
    "</figure>"
   ]
  },
  {
   "cell_type": "code",
   "execution_count": null,
   "id": "fc69cb52-7c97-49e8-961a-2a2e5371c8c3",
   "metadata": {},
   "outputs": [],
   "source": [
    "# Lägg till din kod här, lägg till fler celler om det behövs"
   ]
  },
  {
   "cell_type": "markdown",
   "id": "31706d2e-ae81-4a9b-9eb8-cca1a6af89ff",
   "metadata": {},
   "source": [
    "### Fråga 6\n",
    "\n",
    "Som 5 men modifiera O<sub>3</sub> och jämför med IPCC.\n",
    "Ökningen av O<sub>3</sub> varierar kraftigt mellan regioner, men den globala ökningen av troposfäriskt ozon är i storleksordningen 30%."
   ]
  },
  {
   "cell_type": "code",
   "execution_count": null,
   "id": "17ea611f-3bb5-4508-be0c-81855e88c0ec",
   "metadata": {},
   "outputs": [],
   "source": [
    "# Lägg till din kod här, lägg till fler celler om det behövs"
   ]
  },
  {
   "cell_type": "markdown",
   "id": "6880968e-ec8d-4243-8f97-ca943fb89aa2",
   "metadata": {},
   "source": [
    "### Fråga 7\n",
    "\n",
    "Som 5 men modifiera CH<sub>4</sub> med ett procenttal som representerar ökningen 2019, och jämför med IPCC."
   ]
  },
  {
   "cell_type": "code",
   "execution_count": null,
   "id": "96e3778f-3b29-40fd-a652-c323eb98359d",
   "metadata": {},
   "outputs": [],
   "source": [
    "# Lägg till din kod här, lägg till fler celler om det behövs"
   ]
  },
  {
   "cell_type": "markdown",
   "id": "5ed7f3ea-cd56-41cc-a99e-0107ab52475f",
   "metadata": {},
   "source": [
    "### Fråga 8\n",
    "\n",
    "Som 5 men modifiera N<sub>2</sub>O med ett procental som representerar ökningen 2019, och jämför med IPCC."
   ]
  },
  {
   "cell_type": "code",
   "execution_count": null,
   "id": "f8f79135-1c29-48fd-9aa4-50cc60b034f3",
   "metadata": {},
   "outputs": [],
   "source": [
    "# Lägg till din kod här, lägg till fler celler om det behövs"
   ]
  },
  {
   "cell_type": "markdown",
   "id": "3197ee50-630a-4387-afce-c98a713f80a3",
   "metadata": {},
   "source": [
    "### Fråga 9\n",
    "\n",
    "Ungefär hur mycket måste du ändra H<sub>2</sub>O för att få samma ändring i OLR som den 35%-iga ökningen i CO<sub>2</sub> gav?\n",
    "Om du slår samman resultaten ifrån 5–9, vilken är den starkaste växthusgasen när det kommer till relativa förändringar?"
   ]
  },
  {
   "cell_type": "code",
   "execution_count": null,
   "id": "21ec87b1-5deb-4ab9-9a7c-0dc2252491b6",
   "metadata": {},
   "outputs": [],
   "source": [
    "# Lägg till din kod här, lägg till fler celler om det behövs"
   ]
  },
  {
   "cell_type": "markdown",
   "id": "5036cd76-7419-4653-bee6-4b35cc9d48f6",
   "metadata": {},
   "source": [
    "### Fråga 10\n",
    "\n",
    "Hur mycket förändras OLR vid en fördubbling av CO<sub>2</sub>?\n",
    "Vilken temperaturökning behövs för att föra OLR tillbaka (d.v.s. till OLR-värdet ifrån fråga 3)?\n",
    "\n",
    "(Tips:\n",
    "Du kan hitta temperaturvärdet med \"trial and error\".\n",
    "Men kan du även beräkna den med någon fysikalisk lag?)"
   ]
  },
  {
   "cell_type": "code",
   "execution_count": null,
   "id": "92b6f9d2-e9fa-40e6-a9f9-0f4400ec7e56",
   "metadata": {},
   "outputs": [],
   "source": [
    "# Lägg till din kod här, lägg till fler celler om det behövs"
   ]
  },
  {
   "cell_type": "markdown",
   "id": "47ece372-92d6-43fe-baef-13b4d6fc4a90",
   "metadata": {},
   "source": [
    "### Fråga 11\n",
    "\n",
    "**Frivillig del**\n",
    "\n",
    "Kan du använda resultatet från uppgift 10 för att uppskatta storleken på vattenångans återkoppling som respons på en fördubbling av CO<sub>2</sub>?\n",
    "Det vill säga, hur stor blir temperaturökningen om man inkluderar återkoppling av vattenånga?"
   ]
  },
  {
   "cell_type": "code",
   "execution_count": null,
   "id": "0b79d16a-60a7-4bf7-9044-ad6f8151ab3f",
   "metadata": {},
   "outputs": [],
   "source": [
    "# Lägg till din kod här, lägg till fler celler om det behövs"
   ]
  },
  {
   "cell_type": "markdown",
   "id": "292674d5-cbf2-4491-99f1-2d31570bf13b",
   "metadata": {},
   "source": [
    "### Fråga 12\n",
    "\n",
    "**Frivillig del**\n",
    "\n",
    "Kan du verifiera att inverkan av CO<sub>2</sub> är ungefärligt logaritmisk?\n",
    "Det vill säga att inverkan följer $k \\cdot \\ln(C/C_0 )$, där $C_0$ är en referenskoncentration.\n",
    "Enligt [https://en.wikipedia.org/wiki/Radiative_forcing#Forcing_due_to_changes_in_atmospheric_gas](https://en.wikipedia.org/wiki/Radiative_forcing#Forcing_due_to_changes_in_atmospheric_gas) är $k = 5.35$ W/m$^2$.\n",
    "Vilket värde får du?"
   ]
  },
  {
   "cell_type": "code",
   "execution_count": null,
   "id": "544ac14d-1f4e-4adf-bd6d-a2eec644c5e2",
   "metadata": {},
   "outputs": [],
   "source": [
    "# Lägg till din kod här, lägg till fler celler om det behövs"
   ]
  },
  {
   "cell_type": "markdown",
   "id": "8ddc970a-d6bb-44e2-87c3-317f5b4c2f75",
   "metadata": {},
   "source": [
    "## Avslutning\n",
    "\n",
    "Ladda upp dina svar på uppgifterna ovan på Canvas."
   ]
  }
 ],
 "metadata": {
  "kernelspec": {
   "display_name": "Python 3 (ipykernel)",
   "language": "python",
   "name": "python3"
  },
  "language_info": {
   "codemirror_mode": {
    "name": "ipython",
    "version": 3
   },
   "file_extension": ".py",
   "mimetype": "text/x-python",
   "name": "python",
   "nbconvert_exporter": "python",
   "pygments_lexer": "ipython3",
   "version": "3.11.8"
  }
 },
 "nbformat": 4,
 "nbformat_minor": 5
}
