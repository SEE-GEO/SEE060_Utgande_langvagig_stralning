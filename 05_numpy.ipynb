{
 "cells": [
  {
   "cell_type": "markdown",
   "id": "bb065893-8f03-41f4-802f-d7d254fd7407",
   "metadata": {},
   "source": [
    "# NumPy\n",
    "\n",
    "Pythons listor är väldigt flexibla, men för stora listor börjar Python kännas lite långsamt.\n",
    "[NumPy](https://numpy.org/) skapades för att via Python få tillgång till prestandan hos kompilerade programmeringsspråk som C och Fortran.\n",
    "\n",
    "NumPy introducerar en ny typ av sekvens: en n-dimensionell array (kallas ibland fält på svenska) och en stor samling optimerade funktioner och metoder som utför beräkningar på arrays.\n",
    "Nedan följer ett enkelt exempel för att visa skillnaderna mellan Python och NumPy.\n",
    "\n",
    "Enligt konventionen importerar vi helt enkelt NumPy och sätter namnet till `np`."
   ]
  },
  {
   "cell_type": "code",
   "execution_count": null,
   "id": "0dece354-0ddd-41b4-956e-08fd236b2f86",
   "metadata": {},
   "outputs": [],
   "source": [
    "import numpy as np"
   ]
  },
  {
   "cell_type": "code",
   "execution_count": null,
   "id": "f9057c36-4853-4ffd-a17f-89c6dfdf2a6c",
   "metadata": {},
   "outputs": [],
   "source": [
    "n_elements = 10000000"
   ]
  },
  {
   "cell_type": "markdown",
   "id": "9381e6b8-1276-4413-bdf9-46377d5dfd9f",
   "metadata": {},
   "source": [
    "<div class=\"alert alert-block alert-info\">\n",
    "<b>Info: </b>Kod-cellerna nedan tar en stund att köra klart.\n",
    "</div>"
   ]
  },
  {
   "cell_type": "code",
   "execution_count": null,
   "id": "6ca0d9ce-d34f-419e-ba98-46b18ce58bad",
   "metadata": {},
   "outputs": [],
   "source": [
    "%%timeit\n",
    "vals = []\n",
    "for i in range(n_elements):\n",
    "    vals.append(i**2)"
   ]
  },
  {
   "cell_type": "code",
   "execution_count": null,
   "id": "493ddb7f-c4ad-4423-8a48-5ec63c34efc5",
   "metadata": {},
   "outputs": [],
   "source": [
    "%%timeit\n",
    "vals_np = np.arange(n_elements) ** 2"
   ]
  },
  {
   "cell_type": "markdown",
   "id": "51739188-13a6-466a-a513-5604ba707ab0",
   "metadata": {},
   "source": [
    "Ovan skapade vi en 1-dimensionell lista/array med värden från 0 till `n_elements-1`, varefter vi kvadrerade värdena.\n",
    "Som du ser är versionen med NumPy ~90x snabbare."
   ]
  },
  {
   "cell_type": "markdown",
   "id": "3a1253ca-68f9-41bc-bb87-a1d17c1c08fa",
   "metadata": {},
   "source": [
    "<div class=\"alert alert-block alert-success\">\n",
    "    <b>Uppgift: </b> Ändra värdet på n_elemets och kör om cellerna ovan. Är NumPy alltid snabbare?\n",
    "</div>"
   ]
  },
  {
   "cell_type": "markdown",
   "id": "a204dad1-7f25-487c-bdfd-17bb6f7c7f0e",
   "metadata": {},
   "source": [
    "## Initiera arrays\n",
    "\n",
    "Här kommer några exempel på hur man kan initiera arrays.\n",
    "\n",
    "En array fylld med nollor:"
   ]
  },
  {
   "cell_type": "code",
   "execution_count": null,
   "id": "afba543a-b261-4e02-9cdb-b96550e870db",
   "metadata": {},
   "outputs": [],
   "source": [
    "# Endimensionell array med 50 nollor\n",
    "np.zeros(50)"
   ]
  },
  {
   "cell_type": "code",
   "execution_count": null,
   "id": "9ff0acef-77bb-47c7-b96e-b60cf56c1c21",
   "metadata": {},
   "outputs": [],
   "source": [
    "# Tvådimensionell array med 5 rader och 10 columner\n",
    "np.zeros((5, 10))"
   ]
  },
  {
   "cell_type": "markdown",
   "id": "71eff407-e5f5-462e-8d48-d86bd2dbb6d0",
   "metadata": {},
   "source": [
    "Uppräkning:"
   ]
  },
  {
   "cell_type": "code",
   "execution_count": null,
   "id": "17df85fc-74f9-45b7-9bdc-f7ce53bda65a",
   "metadata": {},
   "outputs": [],
   "source": [
    "# Nummer från start upp till (men ej inkluderat) stopp\n",
    "np.arange(10, 50)"
   ]
  },
  {
   "cell_type": "code",
   "execution_count": null,
   "id": "2ae93606-8b63-4e2b-afc8-3d1f8be460ee",
   "metadata": {},
   "outputs": [],
   "source": [
    "# Kan specifiera storleken på steget\n",
    "np.arange(50, 10, -5)"
   ]
  },
  {
   "cell_type": "code",
   "execution_count": null,
   "id": "5782709e-8454-46d3-839a-b5d35fcdff48",
   "metadata": {},
   "outputs": [],
   "source": [
    "# 50 st. jämnt fördelade nummer mellan start (1) och stopp (99)\n",
    "np.linspace(1, 99)"
   ]
  },
  {
   "cell_type": "code",
   "execution_count": null,
   "id": "4092bc3e-7e1c-4256-8750-31594260e83f",
   "metadata": {},
   "outputs": [],
   "source": [
    "# Bestäm hur många nummer som ska ingå i intervallet\n",
    "np.linspace(1, 99, 10)"
   ]
  },
  {
   "cell_type": "markdown",
   "id": "3b6508cf-f803-4cde-8664-1f1c4d7677de",
   "metadata": {},
   "source": [
    "<div class=\"alert alert-block alert-success\">\n",
    "    <b>Uppgift: </b> I en ny cell under denna, skapa en array med dimensionerna 5x5x3, fylld med 5.\n",
    "</div>"
   ]
  },
  {
   "cell_type": "markdown",
   "id": "494a1761-8cb4-44c7-a8b9-df9e3727cfa6",
   "metadata": {},
   "source": [
    "Slumptal:"
   ]
  },
  {
   "cell_type": "code",
   "execution_count": null,
   "id": "6d31e46b-57a6-4684-9b08-12f16755a895",
   "metadata": {},
   "outputs": [],
   "source": [
    "# Först måste vi initiera en slumptalsgenerator\n",
    "rng = np.random.default_rng()"
   ]
  },
  {
   "cell_type": "code",
   "execution_count": null,
   "id": "5df5337c-fbe4-4816-84cd-19e8b5a4c885",
   "metadata": {},
   "outputs": [],
   "source": [
    "# Slumptal mellan 1 och 6 (testa att köra om cellen med Ctrl+Enter)\n",
    "rng.integers(1, 7)"
   ]
  },
  {
   "cell_type": "code",
   "execution_count": null,
   "id": "5bc22841-ede8-4fe7-9ec5-abf542cdfb12",
   "metadata": {},
   "outputs": [],
   "source": [
    "# 5 slumptal mellan 1 och 6\n",
    "rng.integers(1, 7, size=5)"
   ]
  },
  {
   "cell_type": "code",
   "execution_count": null,
   "id": "1594d3ad-1b18-4602-91c3-595cd4967813",
   "metadata": {},
   "outputs": [],
   "source": [
    "# 25 slumptal mellan 1 och 6, i en 5x5 array\n",
    "rng.integers(1, 7, size=(5, 5))"
   ]
  },
  {
   "cell_type": "markdown",
   "id": "fbb9a065-5ce1-4cd4-a480-b9fa07f22f45",
   "metadata": {},
   "source": [
    "## Array attribut och metoder\n",
    "\n",
    "En array har också en samling attribut och metoder.\n",
    "Attribut är information som till exempel storlek och viken datatyp den innehåller, medan metoder är inbyggda funktioner som utför någon typ av beräkning."
   ]
  },
  {
   "cell_type": "code",
   "execution_count": null,
   "id": "fc4bb649-23d1-499c-be11-fb646efef273",
   "metadata": {},
   "outputs": [],
   "source": [
    "# Här skapar vi en array med 10 rader och 5 kolumner, fylld med slumptal mellan 0 och 1\n",
    "a = rng.random(size=(10, 5))"
   ]
  },
  {
   "cell_type": "markdown",
   "id": "8b268842-8877-44db-9f65-257191853c7c",
   "metadata": {},
   "source": [
    "Storlek och datatyp:"
   ]
  },
  {
   "cell_type": "code",
   "execution_count": null,
   "id": "146473cd-4f84-488a-90a0-d47d38d45d29",
   "metadata": {},
   "outputs": [],
   "source": [
    "a.shape"
   ]
  },
  {
   "cell_type": "code",
   "execution_count": null,
   "id": "bcf1ee33-17e0-4fb2-afc3-f57d75871207",
   "metadata": {},
   "outputs": [],
   "source": [
    "a.dtype"
   ]
  },
  {
   "cell_type": "markdown",
   "id": "c3080170-3e1f-4e92-9778-69500e9f2222",
   "metadata": {},
   "source": [
    "Metoder är funktioner som \"tillhör\" ett visst objekt, t.ex. en NumPy array.\n",
    "Precis som funktioner behöver de kallas med `()`.\n",
    "Om du glömmer parenteserna kommer du få själva metoden:"
   ]
  },
  {
   "cell_type": "code",
   "execution_count": null,
   "id": "4cee3594-446f-422b-885c-5e3b321805bd",
   "metadata": {},
   "outputs": [],
   "source": [
    "a.min"
   ]
  },
  {
   "cell_type": "markdown",
   "id": "8c94792b-3877-49ff-928d-9620afa7beb8",
   "metadata": {},
   "source": [
    "I det här fallet ville vi räkna ut det minsta värdet, inte komma åt `<function ndarary.min>`\n",
    "(i vissa fall kan det vara användbart att behandla metoder och funktioner som objekt, men det är överkurs här).\n",
    "\n",
    "Alltså behöver vi kalla på `min`-metoden som tillhör `a`:"
   ]
  },
  {
   "cell_type": "code",
   "execution_count": null,
   "id": "8ac8cd2c-9983-4eb6-ba18-e327025f1e1a",
   "metadata": {},
   "outputs": [],
   "source": [
    "# Minsta värdet i a\n",
    "a.min()"
   ]
  },
  {
   "cell_type": "markdown",
   "id": "4834a5ab-87a7-4c31-b7a1-3c5d933e6b68",
   "metadata": {},
   "source": [
    "Andra användbara metoder för arrays:"
   ]
  },
  {
   "cell_type": "code",
   "execution_count": null,
   "id": "4a98e98c-1655-4761-9f6f-33e51f52f823",
   "metadata": {},
   "outputs": [],
   "source": [
    "# Minsta värdet, per kolumn\n",
    "a.min(axis=0)"
   ]
  },
  {
   "cell_type": "code",
   "execution_count": null,
   "id": "4a36f1f2-2367-4ae3-afa0-f6160e95c432",
   "metadata": {},
   "outputs": [],
   "source": [
    "# Medelvärdet, per rad\n",
    "a.mean(axis=1)"
   ]
  },
  {
   "cell_type": "code",
   "execution_count": null,
   "id": "98dad5ae-918a-4426-8561-f826973fe30d",
   "metadata": {},
   "outputs": [],
   "source": [
    "# Totala summan\n",
    "a.sum()"
   ]
  },
  {
   "cell_type": "markdown",
   "id": "bf52412d-1953-4421-be81-7f218ea80046",
   "metadata": {},
   "source": [
    "Det går också att omforma en array med `.reshape()`"
   ]
  },
  {
   "cell_type": "code",
   "execution_count": null,
   "id": "f024c5fb-8307-41de-927d-e19ba3d44762",
   "metadata": {},
   "outputs": [],
   "source": [
    "# Här säger vi att vi vill ha 2 rader istället. -1 indikerar att metoden ska bestämma automatiskt hur många kolumner som behövs\n",
    "b = a.reshape((2, -1))"
   ]
  },
  {
   "cell_type": "code",
   "execution_count": null,
   "id": "9d1c0e04-2e68-4a21-8554-82041b867084",
   "metadata": {},
   "outputs": [],
   "source": [
    "b.shape"
   ]
  },
  {
   "cell_type": "markdown",
   "id": "391f2656-b876-4d3b-a0ed-c515b17e67c8",
   "metadata": {},
   "source": [
    "<div class=\"alert alert-block alert-info\">\n",
    "<b>Info: </b> Kom ihåg att du alltid kan läsa signaturen för en metod med <tt>Shift+Tab</tt>, precis som för en funktion.\n",
    "</div>"
   ]
  },
  {
   "cell_type": "markdown",
   "id": "f067cf65-7572-449e-9d92-dc6d39704666",
   "metadata": {},
   "source": [
    "## Operationer\n",
    "\n",
    "Matematiska operationer utförs per element."
   ]
  },
  {
   "cell_type": "code",
   "execution_count": null,
   "id": "5b2ceafe-db3d-4f00-bc1b-fa87b6a3ce4c",
   "metadata": {},
   "outputs": [],
   "source": [
    "a = np.zeros((5, 5)) + 5"
   ]
  },
  {
   "cell_type": "code",
   "execution_count": null,
   "id": "6ae2171d-931b-4eb1-8f31-b658b0336817",
   "metadata": {},
   "outputs": [],
   "source": [
    "a + a"
   ]
  },
  {
   "cell_type": "code",
   "execution_count": null,
   "id": "2b718036-273b-49b4-9310-e1ffaf819ef9",
   "metadata": {},
   "outputs": [],
   "source": [
    "a / a"
   ]
  },
  {
   "cell_type": "code",
   "execution_count": null,
   "id": "25444949-7827-4ae8-934a-f656878527a3",
   "metadata": {},
   "outputs": [],
   "source": [
    "a * a"
   ]
  },
  {
   "cell_type": "markdown",
   "id": "d79cc24e-aea0-477a-9f06-7c295dadd134",
   "metadata": {},
   "source": [
    "Notera alltså att `*` multiplicerar elementvis, och att det alltså **inte** är en matrismultiplikation som i t.ex. MATLAB.\n",
    "Matrismultiplikation kan utföras med `@` för NumPy arrays:"
   ]
  },
  {
   "cell_type": "code",
   "execution_count": null,
   "id": "ce2f8700-ca96-4c62-a561-e3a326b0c13c",
   "metadata": {},
   "outputs": [],
   "source": [
    "a = np.array([[1, 2],\n",
    "              [3, 4]])\n",
    "a @ a"
   ]
  },
  {
   "cell_type": "markdown",
   "id": "e7c03fb0-1ad9-48f4-836f-9c55f206b0f1",
   "metadata": {},
   "source": [
    "## Broadcasting\n",
    "När vi i ett tidigare exempel multiplicerade en array med ett värde resulterade det i att alla värden ändrades.\n",
    "Hur vet NumPy om att vi ville att alla värden skulle ändras?\n",
    "I NumPy kallas detta för **broadcasting**.\n",
    "\n",
    "Broadcasting gör det möjligt att utföra operationer mellan två arrays av olika storlek.\n",
    "**Men**, storleken (eller formen) på de två array-objekten måste vara kompatibla.\n",
    "Specifikt innebär detta att alla dimensionen ska vara samma, eller att en av dimensionerna ska vara lika med ett.\n",
    "\n",
    "\n",
    "<figure>\n",
    "<img src=\"./media/broadcasting.svg\" width=\"500\">\n",
    "</figure>"
   ]
  },
  {
   "cell_type": "markdown",
   "id": "c186668b-0b0b-43f4-adfa-710cfc8c6483",
   "metadata": {},
   "source": [
    "<div class=\"alert alert-block alert-success\">\n",
    "    <b>Uppgift: </b> Skapa en array med värdena 1 till 5, och formen (5, 1) och multiplicera med arrayen <tt>a</tt> från tidigare.\n",
    "    Lägg till så många nya celler du behöver.\n",
    "</div>"
   ]
  },
  {
   "cell_type": "markdown",
   "id": "e249d87e-5b38-4348-b3d1-7e9886f4b9a7",
   "metadata": {},
   "source": [
    "## Indexering och fler funktioner \n",
    "Likt listorna vi tittade på tidigare kan vi indexera arrays för att välja ut värden.\n",
    "\n",
    "<div class=\"alert alert-block alert-info\">\n",
    "    <b>Info: </b> En NumPy array, och sekvenser i Python, är noll-indexerade.\n",
    "    Det betyder att det första värdet ligger på plats 0 i ordningen.\n",
    "</div>"
   ]
  },
  {
   "cell_type": "code",
   "execution_count": null,
   "id": "960eddad-ee7b-43bf-bf53-9da6600b0ff1",
   "metadata": {},
   "outputs": [],
   "source": [
    "# Här skapar vi en array med värden 1 till 25, ordnade i 5 rader och 5 kolumner\n",
    "a = np.arange(1, 26).reshape((5, 5))"
   ]
  },
  {
   "cell_type": "code",
   "execution_count": null,
   "id": "8ccf19e6-8ff0-40b2-94a7-4abdc507394c",
   "metadata": {},
   "outputs": [],
   "source": [
    "a"
   ]
  },
  {
   "cell_type": "code",
   "execution_count": null,
   "id": "e048c8f6-d401-4c04-977a-949309d1d3e2",
   "metadata": {},
   "outputs": [],
   "source": [
    "# Välj ut en rad\n",
    "a[4]"
   ]
  },
  {
   "cell_type": "code",
   "execution_count": null,
   "id": "6490d5d4-9eca-4722-99b6-e35412688fcf",
   "metadata": {},
   "outputs": [],
   "source": [
    "# Välj ut alla rader, och en kolumn\n",
    "a[:, 2]"
   ]
  },
  {
   "cell_type": "code",
   "execution_count": null,
   "id": "db24be3f-cc87-4210-ace1-723e232321d6",
   "metadata": {},
   "outputs": [],
   "source": [
    "# Välj ut ett specifikt värde\n",
    "a[1, 2]"
   ]
  },
  {
   "cell_type": "markdown",
   "id": "834ab956-e147-4339-bea4-5fb976c6cff1",
   "metadata": {},
   "source": [
    "Det går också att kombinera enskilda index med \"slicing\".\n",
    "Nedan väljer vi ut andra och tredje raden, fjärde kolumnen."
   ]
  },
  {
   "cell_type": "code",
   "execution_count": null,
   "id": "b04deecd-052d-4729-8b5a-051ab9fcf105",
   "metadata": {},
   "outputs": [],
   "source": [
    "# Notera att en slice inte inkluderar den övre gränsen\n",
    "a[1:3, 3]"
   ]
  },
  {
   "cell_type": "markdown",
   "id": "f14e54e8-ca88-4db8-9f23-f2f58545b93e",
   "metadata": {},
   "source": [
    "Det går att ändra värden i en array genom indexering:"
   ]
  },
  {
   "cell_type": "code",
   "execution_count": null,
   "id": "0d6106f6-233e-4a6c-987d-4c49132fd816",
   "metadata": {},
   "outputs": [],
   "source": [
    "a[2, 2] = 99"
   ]
  },
  {
   "cell_type": "code",
   "execution_count": null,
   "id": "27c51128-8527-49c0-a66d-071ec0dfc02f",
   "metadata": {},
   "outputs": [],
   "source": [
    "a"
   ]
  },
  {
   "cell_type": "markdown",
   "id": "b4c6a0d2-b5d3-43c0-819a-8bd8c6a461fc",
   "metadata": {},
   "source": [
    "<div class=\"alert alert-block alert-success\">\n",
    "   <b>Uppgift: </b>Ändra alla värden i tredje kolumnen av <tt>a</tt> till 99 med hjälp av en slice.\n",
    "</div>"
   ]
  },
  {
   "cell_type": "markdown",
   "id": "69d11df0-b593-4508-a9ae-35b972bd0cfb",
   "metadata": {},
   "source": [
    "NumPy har också en uppsjö funktioner designade för bland annat matematiska operationer, linjär algebra, statistik, och för att söka och sortera data.\n",
    "Några exempel:\n",
    "- `np.sin`: Beräkna sinus över en array.\n",
    "- `np.quantile`: Beräkna en, eller flera, kvantiler baserat på värdena i en array.\n",
    "- `np.trapz`: Numerisk integrering av en array. **Kommer till användning i Inlämningsuppgift 2!**\n",
    "- `np.where`: Kombinera värden från två arrays givet ett villkor.\n",
    "\n",
    "För alla funktioner tillgängliga i NumPy, se [dokumentationen](https://numpy.org/doc/stable/reference/routines.html)."
   ]
  },
  {
   "cell_type": "markdown",
   "id": "bcecc002-4ad1-4e9c-b640-0357b75c9485",
   "metadata": {},
   "source": [
    "## Nästa steg\n",
    "\n",
    "I nästa del ska vi kika på hur vi kan visualisera data med Matplotlib.\n",
    "\n",
    "<div style=\"width: 100%;\">\n",
    "    <div style=\"float: left\"> \n",
    "        <a href=\"04_bibliotek.ipynb\">« Föregående (Bibliotek)</a>         \n",
    "    </div>\n",
    "    <div style=\"text-align: right\"> \n",
    "        <a href=\"06_matplotlib.ipynb\">Nästa (Matplotlib) »</a>\n",
    "    </div>\n",
    "</div>"
   ]
  }
 ],
 "metadata": {
  "kernelspec": {
   "display_name": "Python 3 (ipykernel)",
   "language": "python",
   "name": "python3"
  },
  "language_info": {
   "codemirror_mode": {
    "name": "ipython",
    "version": 3
   },
   "file_extension": ".py",
   "mimetype": "text/x-python",
   "name": "python",
   "nbconvert_exporter": "python",
   "pygments_lexer": "ipython3",
   "version": "3.11.8"
  }
 },
 "nbformat": 4,
 "nbformat_minor": 5
}
