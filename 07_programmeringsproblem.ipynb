{
 "cells": [
  {
   "cell_type": "markdown",
   "id": "29eed99d-fc5f-4d53-a44f-c24e5e8421f7",
   "metadata": {},
   "source": [
    "# Programmeringsproblem\n",
    "\n",
    "Den här sidan innehåller några problem där du kan träna på dina nya Python-färdigheter.\n",
    "Problemen är frivilliga att göra,\n",
    "och kan kanske hjälpa dig med inlämningsuppgiften senare."
   ]
  },
  {
   "cell_type": "markdown",
   "id": "00e9942b-534c-4dce-aef3-fa7484ecb620",
   "metadata": {},
   "source": [
    "## Problemlösning\n",
    "\n",
    "Många programmeringsproblem är komplexa,\n",
    "och det är sällan man kan sitta ner och lösa problemen direkt i ett svep.\n",
    "Istället brukar man jobba iterativt.\n",
    "Exakt hur man gör det är individuellt,\n",
    "men involverar ofta några av följande steg (ingen särskild ordning):\n",
    "\n",
    "- Förenkla problemet genom att dela upp det i mindre delproblem.\n",
    "- Hitta på enklare konkreta exempel och lös problemet för exemplen innan man kommer på en generell lösning.\n",
    "- Skissa problemet på ett papper.\n",
    "- Sök efter lösningar online.\n",
    "- Läs dokumentation för att förstå hur t.ex. olika funktioner fungerar.\n",
    "- Dokumentation är ofta skriva för att vara kompletta,\n",
    "  och kan bland vara väldigt kompakta.\n",
    "  Det kan därför hjälpa att hitta specifika kodexempel.\n",
    "- [Förklara problemet för en badanka](https://sv.wikipedia.org/wiki/Fels%C3%B6kning_i_kod_med_hj%C3%A4lp_av_gummianka).\n",
    "- Testa att använda t.ex. funktioner interaktivt med enkla exempel för att förstå hur de fungerar.\n",
    "\n",
    "Den sista punkten är en av Pythons starka sida,\n",
    "då det är mycket lätt att jobba med kod interaktivt och testa sig fram, t.ex. i gränssnitt som Jupyter Notebook som du jobbar i nu.\n",
    "\n",
    "När du jobbar med inlämningsuppgiften är det mycket viktigt att du testar dig fram.\n",
    "Det betyder att du ibland kommer behöva skriva kod som inte är direkt relevant för att lösa uppgiften,\n",
    "men som kan hjälpa dig att t.ex. förstå hur en funktion fungerar.\n",
    "Ett tips är att skapa separata kod-celler för att testa kod, och dokumentera dessa tydligt med `# kommentarer` för att du ska förstå vad de är till för,\n",
    "även om du skulle titta på notebooken igen om några år.\n",
    "\n",
    "I den här notebooken finner du några kortare problem där du kan öva på problemlösning.\n",
    "Problemen är utformade för att även hjälpa dig med inlämningsuppgiften."
   ]
  },
  {
   "cell_type": "markdown",
   "id": "615d2369-f250-4c6b-85b4-deeb147bcb84",
   "metadata": {},
   "source": [
    "### Konkret exempel på problemlösning\n",
    "\n",
    "Anta att vi får problemet:\n",
    "\n",
    "<div class=\"alert alert-block alert-success\">\n",
    "    <b>Uppgift:</b>\n",
    "    Skriv en funktion som tar en endimensionell array <tt>vector</tt>.\n",
    "    Funktionen ska hitta det största värdet i <tt>vector</tt>\n",
    "    och returnera en kopia på <tt>vector</tt> där alla värden innan maxvärdet har satts till 0. \n",
    "</div>\n",
    "\n",
    "Hur löser vi detta?\n",
    "Här är ett exempel på *en* arbetsgång.\n",
    "Ditt arbetssätt är kanske annorlunda.\n",
    "\n",
    "1\\. Innan vi gör en generell funktion som löser problemet kan det vara bra att ha jobbat igenom det med ett specifikt exempel först.\n",
    "Så vi kommer först på ett enkelt exempel där vi enkelt kan se svaret, t.ex."
   ]
  },
  {
   "cell_type": "code",
   "execution_count": null,
   "id": "868f9459-9f49-4d29-bccd-31e9ff659fbf",
   "metadata": {},
   "outputs": [],
   "source": [
    "import numpy as np\n",
    "\n",
    "a = np.array([1, 3, 8, 3, -10, 3, 20, 3, 8, 7])"
   ]
  },
  {
   "cell_type": "markdown",
   "id": "27c0b022-acf9-4e3d-86c7-f6feeff1f7af",
   "metadata": {},
   "source": [
    "För det här specifika exemplet vet vi att funktionenen borde returnera:\n",
    "\n",
    "```python\n",
    "[0, 0, 0, 0, 0, 0, 20, 3, 8, 7]\n",
    "```\n",
    "\n",
    "Nu har vi ett specifikt mål, men hur skriver vi kod för att uppnå det?\n",
    "\n",
    "2\\. Försök dela upp problemet i mindre delproblem.\n",
    "\n",
    "För att lösa problemet behöver vi hitta indexet för det största värdet i en NumPy array.\n",
    "Behöver vi skriva kod för detta, eller finns det kanske redan en funktion i NumPy som kan hjälpa oss?\n",
    "Låt oss se om vi kan hitta något, t.ex. genom att googla: [numpy index max value](https://www.google.com/search?q=numpy+index+max+value).\n",
    "Här är två av toppresultaten:\n",
    "\n",
    "- [numpy.argmax — NumPy v1.26 Manual](https://numpy.org/doc/stable/reference/generated/numpy.argmax.html)\n",
    "- [How to get the index of a maximum element in a NumPy ...](https://stackoverflow.com/questions/5469286/how-to-get-the-index-of-a-maximum-element-in-a-numpy-array-along-one-axis)\n",
    "\n",
    "Funktionen `numpy.argmax` verkar lovande. Men hur använder vi den?\n",
    "\n",
    "3\\. [Dokumentationen för `numpy.argmax`](https://numpy.org/doc/stable/reference/generated/numpy.argmax.html) är som tur är inte jättelång, och den innehåller även exempel i slutet. Vi kan testa funktionen på vårt exempel:"
   ]
  },
  {
   "cell_type": "code",
   "execution_count": null,
   "id": "14cf2fba-b240-41e2-850e-39ce0e06e744",
   "metadata": {},
   "outputs": [],
   "source": [
    "np.argmax(a)"
   ]
  },
  {
   "cell_type": "markdown",
   "id": "f0612645-c17f-42c1-89ba-614d14c9c2e4",
   "metadata": {},
   "source": [
    "Det verkar ge oss vad vi förväntar oss (kom ihåg att Python är indexerat från 0). Vi kan dubbelkolla:"
   ]
  },
  {
   "cell_type": "code",
   "execution_count": null,
   "id": "e131e415-d8c4-43ca-ac22-5892ad0da676",
   "metadata": {},
   "outputs": [],
   "source": [
    "i_max = np.argmax(a)\n",
    "a[0:i_max]"
   ]
  },
  {
   "cell_type": "markdown",
   "id": "f8df76a8-d7c6-4c55-94bd-2090b08b370f",
   "metadata": {},
   "source": [
    "Japp, det är de här elementen vi vill sätta till 0.\n",
    "Detta kan göras med:"
   ]
  },
  {
   "cell_type": "code",
   "execution_count": null,
   "id": "eca0db1f-f761-491b-a527-fba5d2ff7528",
   "metadata": {},
   "outputs": [],
   "source": [
    "a[0:i_max] = 0"
   ]
  },
  {
   "cell_type": "code",
   "execution_count": null,
   "id": "6002d306-1118-4ba7-b350-429cf46250ec",
   "metadata": {},
   "outputs": [],
   "source": [
    "a"
   ]
  },
  {
   "cell_type": "markdown",
   "id": "1de44997-87aa-49aa-afaf-12f82dea3b27",
   "metadata": {},
   "source": [
    "<div class=\"alert alert-block alert-info\">\n",
    "    <b>Tips:</b>\n",
    "    Eftersom det är så vanligt att \"slica\" från första elementet behöver man inte ange 0 som startindex i Python.\n",
    "    Koden ovan kan också skrivas som: <tt>a[:imax]</tt> (testa och se!).\n",
    "    Om man inte anger slutindex (<tt>a[imax:]</tt>) så kommer slicen istället innehålla värden fram till och inklusive sista elementet\n",
    "    (medan <tt>a[imax:-1]</tt> <i>inte</i> inkluderar sista elementet).\n",
    "</div>"
   ]
  },
  {
   "cell_type": "markdown",
   "id": "28e7a949-a28a-4aa3-81ce-98208f07597d",
   "metadata": {},
   "source": [
    "Det här verkar fungera som förväntat.\n",
    "Vi kan nu skriva om den här koden som en funktion:"
   ]
  },
  {
   "cell_type": "code",
   "execution_count": null,
   "id": "84a14023-6871-4321-916e-355025771d99",
   "metadata": {},
   "outputs": [],
   "source": [
    "def set_to_zero_before_max(vector):\n",
    "    i_max = np.argmax(vector)\n",
    "    copy = vector\n",
    "    copy[0:i_max] = 0\n",
    "    return copy"
   ]
  },
  {
   "cell_type": "markdown",
   "id": "dd0672ef-d461-4883-b90f-f9f01582205f",
   "metadata": {},
   "source": [
    "Vi testar funktionen med vårt tidigare exempel (vi måste definera om `a` eftersom vi ändrade på vektorn tidigare):"
   ]
  },
  {
   "cell_type": "code",
   "execution_count": null,
   "id": "fb89c72b-9adb-4458-bd29-bd3cec986a8d",
   "metadata": {},
   "outputs": [],
   "source": [
    "a = np.array([1, 3, 8, 3, -10, 3, 20, 3, 8, 7])\n",
    "b = set_to_zero_before_max(a)\n",
    "b"
   ]
  },
  {
   "cell_type": "markdown",
   "id": "297fd965-1243-41de-a2f9-6a37646f33ab",
   "metadata": {},
   "source": [
    "Funktionen verkar ge rätt svar.\n",
    "För att försäkra oss om detta kan vi testa med några fler exempel.\n",
    "Slutligen dubbelkollar vi att funktionen inte gör något oväntat, t.ex. ändrar vår input-variabel:"
   ]
  },
  {
   "cell_type": "code",
   "execution_count": null,
   "id": "8314ff90-4289-4d0e-88f4-f3d1695734b8",
   "metadata": {},
   "outputs": [],
   "source": [
    "a"
   ]
  },
  {
   "cell_type": "markdown",
   "id": "c62d9542-e279-411b-bbb4-bb37660a9892",
   "metadata": {},
   "source": [
    "Oj, det verkar som `a` också ändrades, även om vi ändrade `copy` i funktionen!\n",
    "Hur kommer detta sig?\n",
    "Vi försöker hitta svaret på nätet igen, t.ex. genom att googla: [numpy array why values changed copy](https://www.google.com/search?q=numpy+array+why+values+changed+copy).\n",
    "\n",
    "(Exakt hur man söker effektivt kommer med erfarenhet.)\n",
    "\n",
    "Två av toppresultaten:\n",
    "\n",
    "- [Why original numpy array gets updated after updating of its ...](https://stackoverflow.com/questions/36106826/why-original-numpy-array-gets-updated-after-updating-of-its-copy)\n",
    "- [Copies and views — NumPy v1.26 Manual](https://numpy.org/doc/stable/user/basics.copies.html)\n",
    "\n",
    "Båda sidorna säger att vi kan använda `copy`-metoden för att skapa en kopia av en array.\n",
    "Vi testar att modifiera vår funktion:"
   ]
  },
  {
   "cell_type": "code",
   "execution_count": null,
   "id": "5f84c533-56af-42f7-8529-ebeb287177d8",
   "metadata": {},
   "outputs": [],
   "source": [
    "def set_to_zero_before_max(vector):\n",
    "    i_max = np.argmax(vector)\n",
    "    copy = vector.copy()\n",
    "    copy[0:i_max] = 0\n",
    "    return copy"
   ]
  },
  {
   "cell_type": "code",
   "execution_count": null,
   "id": "d1879299-305f-4f36-9506-d38ef413b749",
   "metadata": {},
   "outputs": [],
   "source": [
    "a = np.array([1, 3, 8, 3, -10, 3, 20, 3, 8, 7])  # måste definera om igen\n",
    "b = set_to_zero_before_max(a)\n",
    "print(\"b = \", b)\n",
    "print(\"a = \", a)"
   ]
  },
  {
   "cell_type": "markdown",
   "id": "6c5ae511-f9bb-4d4b-ab8f-9da11474bb3a",
   "metadata": {},
   "source": [
    "Nu får vi ett rätt svar utan att ha ändrat vår orginalarray.\n",
    "Problemet är löst!"
   ]
  },
  {
   "cell_type": "markdown",
   "id": "8db25f6e-db72-41a6-82c7-8c6660b98ab9",
   "metadata": {},
   "source": [
    "## Problem\n",
    "\n",
    "Försök att lösa problemen nedan.\n",
    "Skapa så många kodceller som du behöver.\n",
    "Några av problemen förutsätter att du gjort tidigare problem,\n",
    "så det är rekommenderat att göra dem i ordning.\n",
    "\n",
    "<div class=\"alert alert-block alert-warning\">\n",
    "    <b>Varning: </b>I fallet att du följt länken på Canvas körs den här notebooken på något som heter <a href=https://mybinder.org/>MyBinder</a>,\n",
    "    vilket innebär att JupyterLab körs på en server någonstans i molnet.\n",
    "    Det är väldigt smidigt för att komma igång med Python och Jupyter,\n",
    "    men <b>ingenting sparas</b> och programmet stängs av efter en stunds inaktivitet.\n",
    "    Alltså måste du ladda ner filerna till din egen dator för att spara dem\n",
    "    (högerklicka på filen du vill spara i filhanteraren -> Download).\n",
    "    Du måste sedan ladda upp filen igen\n",
    "    (genom att klicka på knappen som ser ut som en uppåtpil i filhanteraren)\n",
    "    när du startar en ny session.\n",
    "</div>"
   ]
  },
  {
   "cell_type": "markdown",
   "id": "4e2f574b-1ef8-4be8-8d12-c0f1989fc6be",
   "metadata": {},
   "source": [
    "### Problem 1: Plotta funktioner\n",
    "\n",
    "Plotta följande funktioner för $x$ mellan $0$ och $\\pi$ i samma figur:\n",
    "\n",
    "- $f(x) = 1$\n",
    "- $f(x) = 0,5x$\n",
    "- $f(x) = \\sin(x)$\n",
    "\n",
    "Får du rätt värden på x-axeln?\n",
    "Kan du begränsa kurvorna till det angivna intervallet utan att använda t.ex. `xlim`/`set_xlim`?"
   ]
  },
  {
   "cell_type": "markdown",
   "id": "47b7ec64-db4e-4d7d-b8b9-bceffaa520a4",
   "metadata": {},
   "source": [
    "### Problem 2: Vad visar egentligen linjediagrammen?\n",
    "\n",
    "När du gjorde [Problem 1](#Problem-1:-Plotta-funktioner) skapade du förmodligen först en array med alla x-värden,\n",
    "t.ex. med `linspace` eller `arange` från NumPy.\n",
    "Testa att minska antalet element i x-arrayen (och motsvarande y-arrayen) och se hur det påverkar plottarna.\n",
    "Hur ser det ut om du bara använder 10 element?\n",
    "Vilken kurva påverkas mest?\n",
    "\n",
    "Ett tips är att ange `'o-'` (notera att `''` också ska vara med) som tredje argument till `plot`\n",
    "för att plotta en ifylld cirkel vid varje datapunkt.\n",
    "\n",
    "<div class=\"alert alert-block alert-info\">\n",
    "    <details>\n",
    "        <summary><em>Slutsats:</em></summary>\n",
    "        Det här visar att <tt>plot</tt> t.ex. inte vet vad sinus är,\n",
    "        utan <tt>plot</tt>-funktionen ritar helt enkelt raka streck mellan punkterna för x- och y-koordinaterna som anges.\n",
    "        Tricket är att avståndet mellan punkterna ofta är så små att kurvorna ser ut att svänga \"mjukt\".\n",
    "    </details>\n",
    "</div>\n"
   ]
  },
  {
   "cell_type": "markdown",
   "id": "1c960ce7-941f-46cd-94a0-292842b26b03",
   "metadata": {},
   "source": [
    "### Problem 3: Numerisk integration med `trapz`\n",
    "\n",
    "Öva på hur man integrerar med `trapz`-funktionen i NumPy genom att integrera funktionerna i [Problem 1](#Problem-1) i intervallet $x = 0$ till $\\pi$:\n",
    "\n",
    "- $f(x) = 1$\n",
    "- $f(x) = 0,5x$\n",
    "- $f(x) = \\sin(x)$\n",
    "\n",
    "Jämför med de analytiska lösningarna för att se om du får rätt resultat.\n",
    "Notera att du kanske inte får exakt rätt svar p.g.a. numeriska avrundningsfel.\n",
    "\n",
    "<div class=\"alert alert-block alert-info\">\n",
    "    <b>Tips:</b>\n",
    "    <ul>\n",
    "        <li>Hur sätter man gränserna i integralen? Kom ihåg att <tt></tt>trapz</tt> inte löser integralen analytiskt,\n",
    "        utan approximerar integralen med små trapetser\n",
    "        (\"<a href=\"https://en.wikipedia.org/wiki/Trapezoidal_rule\">trapezoidal rule</a>\" som nämns i dokumentationen).\n",
    "        </li>\n",
    "        <li>Fortfarande oklart? Fundera vad du kom fram till när du plottade funktionerna i Problem 1 och 2.</li>\n",
    "        <li>Du kan visualisera integralerna i Problem 1 och 2 genom att ersätta <tt>plot</tt> med <tt>fill_between</tt>.\n",
    "        För att göra areorna genomskinliga kan du t.ex. ange <tt>alpha=0.5</tt> som argument.</li>\n",
    "        <li>Vad gör argumenten <tt>x</tt> och <tt>dx</tt> i <tt>trapz</tt>?\n",
    "            Vad händer om du inte anger dem? Testa!\n",
    "            Vad behöver du göra för att integralerna ska bli rätt?</li>\n",
    "    </ul>\n",
    "</div>\n",
    "\n",
    "\n"
   ]
  },
  {
   "cell_type": "markdown",
   "id": "20a27be1-8018-4aa4-b62a-692be2fd2bbe",
   "metadata": {},
   "source": [
    "### Problem 4: Plotta tvådimensionella matriser\n",
    "\n",
    "Matplotlib kan även visualisera tvådimensionella matriser.\n",
    "Här är ett exempel,\n",
    "där varje rad är en sinus-kurva som förskjuts för varje ny rad."
   ]
  },
  {
   "cell_type": "code",
   "execution_count": null,
   "id": "5a8279a7-151c-420e-98ca-bccbb16a4aa7",
   "metadata": {},
   "outputs": [],
   "source": [
    "# Exempel på hur man kan skapa en tvådimensionell data-matris\n",
    "import numpy as np\n",
    "\n",
    "x = np.linspace(0, np.pi, 50)\n",
    "phi = np.linspace(0, np.pi/4, 10)\n",
    "\n",
    "# Först skapar vi en \"tom\" matris\n",
    "data = np.zeros((phi.size, x.size))\n",
    "\n",
    "# Nu fyller vi i data-matrisen med värden:\n",
    "for i, shift in enumerate(phi):\n",
    "    y = np.sin(x + shift)\n",
    "    data[i, :] = y"
   ]
  },
  {
   "cell_type": "markdown",
   "id": "8b7389fe-7536-451e-bf7e-45812a7292ec",
   "metadata": {},
   "source": [
    "Vi kan t.ex. plotta varje element i matrisen med `pcolormesh`:"
   ]
  },
  {
   "cell_type": "code",
   "execution_count": null,
   "id": "63d2ba86-4a03-45b4-84b6-889b58c58b3c",
   "metadata": {},
   "outputs": [],
   "source": [
    "import matplotlib.pyplot as plt\n",
    "\n",
    "fig, ax = plt.subplots()\n",
    "C = ax.pcolormesh(x, phi, data)\n",
    "ax.set_xlabel(\"x\")\n",
    "ax.set_ylabel(\"phi\")\n",
    "plt.colorbar(C)"
   ]
  },
  {
   "cell_type": "markdown",
   "id": "76194a22-e90b-49b5-aecb-a5f7bdbace5a",
   "metadata": {},
   "source": [
    "Testa att plotta en eller flera rader i `data`.\n",
    "Motsvarar resultatet vad du förväntar dig?\n",
    "\n",
    "Plotta nu en eller flera kolumner i `data` istället.\n",
    "Varför ser plotten ut på det här sättet?\n",
    "Kan du förstå det från `pcolormesh`-plotten ovan?\n",
    "\n",
    "Generellt sett,\n",
    "kan du visualisera hur vi \"skär ut\" en bit från en array när vi \"slicar\" längs en dimension?"
   ]
  },
  {
   "cell_type": "markdown",
   "id": "2a3c6d51-793f-4f12-a4d1-46e5e40a5e25",
   "metadata": {},
   "source": [
    "### Problem 5: Integrering av multidimensionella arrayer med `trapz`\n",
    "\n",
    "Ibland behöver man integrera över flera funktioner.\n",
    "Detta kan göras med en loop.\n",
    "Ta `data`-matrisen från [Problem 4](#Problem-4:-Plotta-tvådimensionella-matriser) som exempel\n",
    "(kör kodcellen som skapar `data`-matrisen i Problem 4 om du inte redan gjort det).\n",
    "Integrera varje rad i `data`.\n",
    "Får du resultatet du förväntar dig?"
   ]
  },
  {
   "cell_type": "markdown",
   "id": "addfaf2d-7353-441b-a9b7-58bdd0c181d2",
   "metadata": {},
   "source": [
    "Det är faktiskt så att `trapz` stöder multidimensionella arrayer.\n",
    "Funktionen beräknar fortfarande enkelintegraler,\n",
    "men längs dimensionen som anges via `axis`-argumentet.\n",
    "\n",
    "Testa att beräkna integralen för varje rad i `data` direkt i `trapz` utan att loopa.\n",
    "Får du samma resultat som ovan?\n",
    "\n",
    "Vad händer om du ändrar dimensionen du integrerar över med `axis`-argumentet?\n",
    "(Du kanske även behöver ändra `x`-parametern om du har angett det.)\n",
    "Får du samma resultat igen?\n",
    "Om inte, vad är det du har beräknat nu?"
   ]
  },
  {
   "cell_type": "markdown",
   "id": "a6112c23-aa23-452c-86f4-4ec7a384f462",
   "metadata": {},
   "source": [
    "### Problem 6: Manipulera arrays\n",
    "\n",
    "Gör en funktion som tar en endimensionell array (`vector`) och ett nummer (`value`, en `float`) som argument.\n",
    "Funktionen ska returnera en kopia på `vector` där alla element före *och inklusive* minimum-värdet i arrayen ökas med `value`\n",
    "(d.v.s., lägg till `value` till alla element före och inklusive minimum-värdet,\n",
    "men inte till elementen därefter).\n",
    "Kontrollera att orginal-arrayen inte ändras när du använder din funktion.\n",
    "\n",
    "<div class=\"alert alert-block alert-info\">\n",
    "    <b>Tips:</b>\n",
    "    Vet du inte var du ska börja?\n",
    "    Läs igen exemplet under <a href=\"#Konkret-exempel-p%C3%A5-probleml%C3%B6sning\">Konkret exempel på problemlösning</a> igen.\n",
    "</div>"
   ]
  },
  {
   "cell_type": "markdown",
   "id": "bcecc002-4ad1-4e9c-b640-0357b75c9485",
   "metadata": {},
   "source": [
    "## Nästa steg\n",
    "\n",
    "Nu är du klar med övningen som introducerar Python.\n",
    "Om du känner att du förstod det mesta kan du gå vidare med Inlämning 2.\n",
    "Om något fortfarande är oklart kan du bläddra tillbaka och titta på föregående sidor,\n",
    "samt ställa frågor i diskussionstråden under Inlämningar på kursens startsida i Canvas.\n",
    "\n",
    "\n",
    "<div style=\"width: 100%;\">\n",
    "    <div style=\"float: left\"> \n",
    "        <a href=\"06_matplotlib.ipynb\">« Föregående (Matplotlib)</a>\n",
    "    </div>\n",
    "</div>\n",
    "\n",
    "<div style=\"width: 100%;\">\n",
    "    <div style=\"text-align: right\"> \n",
    "        <a href=\"08_uppgift_2_olr.ipynb\">Inlämningsuppgift 2: Utgående långvågig strålning (OLR) »</a>\n",
    "    </div>\n",
    "</div>"
   ]
  }
 ],
 "metadata": {
  "kernelspec": {
   "display_name": "Python 3 (ipykernel)",
   "language": "python",
   "name": "python3"
  },
  "language_info": {
   "codemirror_mode": {
    "name": "ipython",
    "version": 3
   },
   "file_extension": ".py",
   "mimetype": "text/x-python",
   "name": "python",
   "nbconvert_exporter": "python",
   "pygments_lexer": "ipython3",
   "version": "3.10.13"
  }
 },
 "nbformat": 4,
 "nbformat_minor": 5
}
